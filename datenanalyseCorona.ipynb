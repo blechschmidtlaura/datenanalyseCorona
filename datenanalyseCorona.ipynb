{
  "nbformat": 4,
  "nbformat_minor": 0,
  "metadata": {
    "colab": {
      "name": "datenanalyseCorona.ipynb",
      "provenance": [],
      "collapsed_sections": [],
      "include_colab_link": true
    },
    "kernelspec": {
      "name": "python3",
      "display_name": "Python 3"
    }
  },
  "cells": [
    {
      "cell_type": "markdown",
      "metadata": {
        "id": "view-in-github",
        "colab_type": "text"
      },
      "source": [
        "<a href=\"https://colab.research.google.com/github/blechschmidtlaura/datenanalyseCorona/blob/master/datenanalyseCorona.ipynb\" target=\"_parent\"><img src=\"https://colab.research.google.com/assets/colab-badge.svg\" alt=\"Open In Colab\"/></a>"
      ]
    },
    {
      "cell_type": "code",
      "metadata": {
        "id": "LvKGEkgHSPti",
        "colab_type": "code",
        "outputId": "6343a23d-5c4c-45cd-8991-aeb5b94cf7e8",
        "colab": {
          "base_uri": "https://localhost:8080/",
          "height": 793
        }
      },
      "source": [
        "!pip install yfinance\n",
        "!pip install colab-gitlab\n",
        "import yfinance as yf\n",
        "from pandas_datareader import data as pdr\n",
        "import pandas as pd\n",
        "from matplotlib import pyplot as plt\n",
        "from datetime import timedelta"
      ],
      "execution_count": 94,
      "outputs": [
        {
          "output_type": "stream",
          "text": [
            "Requirement already satisfied: yfinance in /usr/local/lib/python3.6/dist-packages (0.1.54)\n",
            "Requirement already satisfied: numpy>=1.15 in /usr/local/lib/python3.6/dist-packages (from yfinance) (1.18.3)\n",
            "Requirement already satisfied: multitasking>=0.0.7 in /usr/local/lib/python3.6/dist-packages (from yfinance) (0.0.9)\n",
            "Requirement already satisfied: requests>=2.20 in /usr/local/lib/python3.6/dist-packages (from yfinance) (2.21.0)\n",
            "Requirement already satisfied: pandas>=0.24 in /usr/local/lib/python3.6/dist-packages (from yfinance) (1.0.3)\n",
            "Requirement already satisfied: chardet<3.1.0,>=3.0.2 in /usr/local/lib/python3.6/dist-packages (from requests>=2.20->yfinance) (3.0.4)\n",
            "Requirement already satisfied: urllib3<1.25,>=1.21.1 in /usr/local/lib/python3.6/dist-packages (from requests>=2.20->yfinance) (1.24.3)\n",
            "Requirement already satisfied: idna<2.9,>=2.5 in /usr/local/lib/python3.6/dist-packages (from requests>=2.20->yfinance) (2.8)\n",
            "Requirement already satisfied: certifi>=2017.4.17 in /usr/local/lib/python3.6/dist-packages (from requests>=2.20->yfinance) (2020.4.5.1)\n",
            "Requirement already satisfied: pytz>=2017.2 in /usr/local/lib/python3.6/dist-packages (from pandas>=0.24->yfinance) (2018.9)\n",
            "Requirement already satisfied: python-dateutil>=2.6.1 in /usr/local/lib/python3.6/dist-packages (from pandas>=0.24->yfinance) (2.8.1)\n",
            "Requirement already satisfied: six>=1.5 in /usr/local/lib/python3.6/dist-packages (from python-dateutil>=2.6.1->pandas>=0.24->yfinance) (1.12.0)\n",
            "Requirement already satisfied: colab-gitlab in /usr/local/lib/python3.6/dist-packages (0.2.6)\n",
            "Requirement already satisfied: requests>=2.7.0 in /usr/local/lib/python3.6/dist-packages (from colab-gitlab) (2.21.0)\n",
            "Requirement already satisfied: colab in /usr/local/lib/python3.6/dist-packages (from colab-gitlab) (1.13.5)\n",
            "Requirement already satisfied: python-dateutil>=1.5 in /usr/local/lib/python3.6/dist-packages (from colab-gitlab) (2.8.1)\n",
            "Requirement already satisfied: certifi>=2017.4.17 in /usr/local/lib/python3.6/dist-packages (from requests>=2.7.0->colab-gitlab) (2020.4.5.1)\n",
            "Requirement already satisfied: idna<2.9,>=2.5 in /usr/local/lib/python3.6/dist-packages (from requests>=2.7.0->colab-gitlab) (2.8)\n",
            "Requirement already satisfied: urllib3<1.25,>=1.21.1 in /usr/local/lib/python3.6/dist-packages (from requests>=2.7.0->colab-gitlab) (1.24.3)\n",
            "Requirement already satisfied: chardet<3.1.0,>=3.0.2 in /usr/local/lib/python3.6/dist-packages (from requests>=2.7.0->colab-gitlab) (3.0.4)\n",
            "Requirement already satisfied: django-revproxy[diazo]>=0.9.9 in /usr/local/lib/python3.6/dist-packages (from colab->colab-gitlab) (0.10.0)\n",
            "Requirement already satisfied: html2text>=3.200.3 in /usr/local/lib/python3.6/dist-packages (from colab->colab-gitlab) (2020.1.16)\n",
            "Requirement already satisfied: pytz>=2011n in /usr/local/lib/python3.6/dist-packages (from colab->colab-gitlab) (2018.9)\n",
            "Requirement already satisfied: celery[redis]>=3.1.2 in /usr/local/lib/python3.6/dist-packages (from colab->colab-gitlab) (4.4.2)\n",
            "Requirement already satisfied: django-haystack>=2.2 in /usr/local/lib/python3.6/dist-packages (from colab->colab-gitlab) (2.8.1)\n",
            "Requirement already satisfied: django-taggit>=0.12.1 in /usr/local/lib/python3.6/dist-packages (from colab->colab-gitlab) (1.2.0)\n",
            "Requirement already satisfied: django-hitcounter>=0.1.1 in /usr/local/lib/python3.6/dist-packages (from colab->colab-gitlab) (0.1.1)\n",
            "Requirement already satisfied: Whoosh>=2.7.0 in /usr/local/lib/python3.6/dist-packages (from colab->colab-gitlab) (2.7.4)\n",
            "Requirement already satisfied: Django<1.8,>=1.7.10 in /usr/local/lib/python3.6/dist-packages (from colab->colab-gitlab) (1.7.11)\n",
            "Requirement already satisfied: etiquetando==0.1 in /usr/local/lib/python3.6/dist-packages (from colab->colab-gitlab) (0.1)\n",
            "Requirement already satisfied: six>=1.5 in /usr/local/lib/python3.6/dist-packages (from python-dateutil>=1.5->colab-gitlab) (1.12.0)\n",
            "Requirement already satisfied: diazo>=1.0.5; extra == \"diazo\" in /usr/local/lib/python3.6/dist-packages (from django-revproxy[diazo]>=0.9.9->colab->colab-gitlab) (1.4.0)\n",
            "Requirement already satisfied: lxml>=3.4; extra == \"diazo\" in /usr/local/lib/python3.6/dist-packages (from django-revproxy[diazo]>=0.9.9->colab->colab-gitlab) (4.2.6)\n",
            "Requirement already satisfied: vine==1.3.0 in /usr/local/lib/python3.6/dist-packages (from celery[redis]>=3.1.2->colab->colab-gitlab) (1.3.0)\n",
            "Requirement already satisfied: billiard<4.0,>=3.6.3.0 in /usr/local/lib/python3.6/dist-packages (from celery[redis]>=3.1.2->colab->colab-gitlab) (3.6.3.0)\n",
            "Requirement already satisfied: kombu<4.7,>=4.6.8 in /usr/local/lib/python3.6/dist-packages (from celery[redis]>=3.1.2->colab->colab-gitlab) (4.6.8)\n",
            "Requirement already satisfied: redis>=3.2.0; extra == \"redis\" in /usr/local/lib/python3.6/dist-packages (from celery[redis]>=3.1.2->colab->colab-gitlab) (3.4.1)\n",
            "Requirement already satisfied: repoze.lru>=0.6 in /usr/local/lib/python3.6/dist-packages (from etiquetando==0.1->colab->colab-gitlab) (0.7)\n",
            "Requirement already satisfied: stemming>=1.0 in /usr/local/lib/python3.6/dist-packages (from etiquetando==0.1->colab->colab-gitlab) (1.0.1)\n",
            "Requirement already satisfied: cssselect in /usr/local/lib/python3.6/dist-packages (from diazo>=1.0.5; extra == \"diazo\"->django-revproxy[diazo]>=0.9.9->colab->colab-gitlab) (1.1.0)\n",
            "Requirement already satisfied: future in /usr/local/lib/python3.6/dist-packages (from diazo>=1.0.5; extra == \"diazo\"->django-revproxy[diazo]>=0.9.9->colab->colab-gitlab) (0.16.0)\n",
            "Requirement already satisfied: setuptools in /usr/local/lib/python3.6/dist-packages (from diazo>=1.0.5; extra == \"diazo\"->django-revproxy[diazo]>=0.9.9->colab->colab-gitlab) (46.1.3)\n",
            "Requirement already satisfied: importlib-metadata>=0.18; python_version < \"3.8\" in /usr/local/lib/python3.6/dist-packages (from kombu<4.7,>=4.6.8->celery[redis]>=3.1.2->colab->colab-gitlab) (1.6.0)\n",
            "Requirement already satisfied: amqp<2.6,>=2.5.2 in /usr/local/lib/python3.6/dist-packages (from kombu<4.7,>=4.6.8->celery[redis]>=3.1.2->colab->colab-gitlab) (2.5.2)\n",
            "Requirement already satisfied: zipp>=0.5 in /usr/local/lib/python3.6/dist-packages (from importlib-metadata>=0.18; python_version < \"3.8\"->kombu<4.7,>=4.6.8->celery[redis]>=3.1.2->colab->colab-gitlab) (3.1.0)\n"
          ],
          "name": "stdout"
        }
      ]
    },
    {
      "cell_type": "code",
      "metadata": {
        "id": "CHJRcmXxSyUs",
        "colab_type": "code",
        "outputId": "f7975ad5-da6e-4a43-91cb-1c6616852e12",
        "colab": {
          "base_uri": "https://localhost:8080/",
          "height": 34
        }
      },
      "source": [
        "yf.pdr_override() # <== that's all it takes :-)\n",
        "\n",
        "dax_ticker = \"^GDAXI\"\n",
        "start_date = \"2020-01-22\"\n",
        "\n",
        "# download dataframe using pandas_datareader\n",
        "data = pdr.get_data_yahoo(dax_ticker, start=start_date)"
      ],
      "execution_count": 95,
      "outputs": [
        {
          "output_type": "stream",
          "text": [
            "\r[*********************100%***********************]  1 of 1 completed\n"
          ],
          "name": "stdout"
        }
      ]
    },
    {
      "cell_type": "code",
      "metadata": {
        "id": "A_nEQQq9TYdx",
        "colab_type": "code",
        "outputId": "661255dd-2f11-4f9d-eaa3-6f8df32dcde8",
        "colab": {
          "base_uri": "https://localhost:8080/",
          "height": 168
        }
      },
      "source": [
        "print(data.head())"
      ],
      "execution_count": 96,
      "outputs": [
        {
          "output_type": "stream",
          "text": [
            "                    Open          High  ...     Adj Close     Volume\n",
            "Date                                    ...                         \n",
            "2020-01-22  13601.650391  13640.059570  ...  13515.750000   73130700\n",
            "2020-01-23  13455.900391  13486.139648  ...  13388.419922   90749900\n",
            "2020-01-24  13512.839844  13604.849609  ...  13576.679688   87986400\n",
            "2020-01-27  13374.990234  13399.419922  ...  13204.769531  101409200\n",
            "2020-01-28  13274.009766  13327.120117  ...  13323.690430   91825300\n",
            "\n",
            "[5 rows x 6 columns]\n"
          ],
          "name": "stdout"
        }
      ]
    },
    {
      "cell_type": "code",
      "metadata": {
        "id": "DXbMOGVaUxBN",
        "colab_type": "code",
        "outputId": "37cccdd5-79fe-4f20-a56f-689a401b1f52",
        "colab": {
          "base_uri": "https://localhost:8080/",
          "height": 185
        }
      },
      "source": [
        "for row in data.values[:10]:\n",
        "  print(row[0])"
      ],
      "execution_count": 97,
      "outputs": [
        {
          "output_type": "stream",
          "text": [
            "13601.650390625\n",
            "13455.900390625\n",
            "13512.83984375\n",
            "13374.990234375\n",
            "13274.009765625\n",
            "13316.419921875\n",
            "13186.490234375\n",
            "13196.7998046875\n",
            "13033.169921875\n",
            "13135.6103515625\n"
          ],
          "name": "stdout"
        }
      ]
    },
    {
      "cell_type": "code",
      "metadata": {
        "id": "25bA_aZUXO0o",
        "colab_type": "code",
        "outputId": "43a7aacb-b50f-4654-d8c2-81c93f3e5731",
        "colab": {
          "base_uri": "https://localhost:8080/",
          "height": 318
        }
      },
      "source": [
        "from datetime import datetime\n",
        "x = list(map(lambda date: datetime.strftime(date, \"%m/%d/%y\"), data.index))\n",
        "\n",
        "\"\"\"\n",
        "x = []\n",
        "\n",
        "for date in data.index:\n",
        "  x.append(datetime.strftime(date, \"%m/%d/%y\"))\n",
        "\n",
        "\"\"\"\n",
        "\n",
        "\n",
        "print(x)\n",
        "y = []\n",
        "\n",
        "for row in data.values:\n",
        "  y.append(row[1])\n",
        "\n",
        "plt.xlabel('Time')\n",
        "plt.ylabel('Cases')\n",
        "plt.xticks(list(range(0, len(x), 14)))\n",
        "\n",
        "plt.plot(x, y)\n",
        "\n",
        "\n",
        "plt.show()"
      ],
      "execution_count": 98,
      "outputs": [
        {
          "output_type": "stream",
          "text": [
            "['01/22/20', '01/23/20', '01/24/20', '01/27/20', '01/28/20', '01/29/20', '01/30/20', '01/31/20', '02/03/20', '02/04/20', '02/05/20', '02/06/20', '02/07/20', '02/10/20', '02/11/20', '02/12/20', '02/13/20', '02/14/20', '02/17/20', '02/18/20', '02/19/20', '02/20/20', '02/21/20', '02/24/20', '02/25/20', '02/26/20', '02/27/20', '02/28/20', '03/02/20', '03/03/20', '03/04/20', '03/05/20', '03/06/20', '03/09/20', '03/10/20', '03/11/20', '03/12/20', '03/13/20', '03/16/20', '03/17/20', '03/18/20', '03/19/20', '03/20/20', '03/23/20', '03/24/20', '03/25/20', '03/26/20', '03/27/20', '03/30/20', '03/31/20', '04/01/20', '04/02/20', '04/03/20', '04/06/20', '04/07/20', '04/08/20', '04/09/20', '04/14/20', '04/15/20', '04/16/20', '04/17/20', '04/20/20', '04/21/20', '04/22/20', '04/23/20', '04/24/20', '04/27/20', '04/28/20']\n"
          ],
          "name": "stdout"
        },
        {
          "output_type": "display_data",
          "data": {
            "image/png": "[encoded data removed]",
            "text/plain": [
              "<Figure size 432x288 with 1 Axes>"
            ]
          },
          "metadata": {
            "tags": [],
            "needs_background": "light"
          }
        }
      ]
    },
    {
      "cell_type": "code",
      "metadata": {
        "id": "U3QQOX3O7tod",
        "colab_type": "code",
        "colab": {}
      },
      "source": [
        "\n",
        "corona_data = pd.read_csv(r\"global_cases_corona.csv\")\n"
      ],
      "execution_count": 0,
      "outputs": []
    },
    {
      "cell_type": "code",
      "metadata": {
        "id": "OhO3Bus_-zTl",
        "colab_type": "code",
        "colab": {}
      },
      "source": [
        "# TODO ändern wenn Oktober ist !!\n",
        "x2 = list(map(lambda date: \"0\" + date, list(corona_data.columns)[4:]))\n",
        "#:x2.pop(0)\n",
        "y2 = []\n",
        "      \n",
        "\n",
        "for row in corona_data.values:\n",
        "    if row[1] == \"Germany\":\n",
        "      y2.extend(row)\n",
        "y2 = y2[4:]"
      ],
      "execution_count": 0,
      "outputs": []
    },
    {
      "cell_type": "code",
      "metadata": {
        "id": "nDfT5mnZBCcR",
        "colab_type": "code",
        "colab": {}
      },
      "source": [
        "# TODO ändern wenn Oktober ist !!\n",
        "x3 = list(map(lambda date: \"0\" + date, list(corona_data.columns)[4:]))\n",
        "#:x2.pop(0)\n",
        "y3 = []\n",
        "      \n",
        "\n",
        "for row in corona_data.values:\n",
        "    if row[0] == \"Hubei\":\n",
        "      y3.extend(row)\n",
        "y3 = y3[4:]"
      ],
      "execution_count": 0,
      "outputs": []
    },
    {
      "cell_type": "code",
      "metadata": {
        "id": "zIspRdUnJSOI",
        "colab_type": "code",
        "outputId": "00e3d283-56fb-49f4-bdc9-a2f7903f692a",
        "colab": {
          "base_uri": "https://localhost:8080/",
          "height": 54
        }
      },
      "source": [
        "unvollstaendige_liste = x[:]\n",
        "x2_copy = x2[:]\n",
        "\n",
        "\"\"\"\n",
        "for i in range(len(x2_copy)):\n",
        "  x_element =  unvollstaendige_liste[i]\n",
        "  x2_element = x2_copy[i]\n",
        "  if x_element != x2_element:\n",
        "      unvollstaendige_liste.insert(i, x2_element)\n",
        "      y.insert(i, y[i-1]) \n",
        "\"\"\"\n",
        "\n"
      ],
      "execution_count": 102,
      "outputs": [
        {
          "output_type": "execute_result",
          "data": {
            "text/plain": [
              "'\\nfor i in range(len(x2_copy)):\\n  x_element =  unvollstaendige_liste[i]\\n  x2_element = x2_copy[i]\\n  if x_element != x2_element:\\n      unvollstaendige_liste.insert(i, x2_element)\\n      y.insert(i, y[i-1]) \\n      # handy aus, telefon? kannst mich auf dem Festnetz anrufen\\n'"
            ]
          },
          "metadata": {
            "tags": []
          },
          "execution_count": 102
        }
      ]
    },
    {
      "cell_type": "code",
      "metadata": {
        "id": "AwHC3l-TSX2h",
        "colab_type": "code",
        "outputId": "15e2a246-8db0-4a8d-b555-70e26f9cd526",
        "colab": {
          "base_uri": "https://localhost:8080/",
          "height": 34
        }
      },
      "source": [
        "current_date = datetime.strptime(x[0], \"%m/%d/%y\")\n",
        "one_day = timedelta(days=1)\n",
        "current_date -= one_day\n",
        "dates = []\n",
        "for i in range(len(x2)):\n",
        "    current_date += one_day\n",
        "    str_date = datetime.strftime(current_date, \"%m/%d/%y\")\n",
        "    dates.append(str_date)\n",
        "\n",
        "for i in range(len(dates)):\n",
        "  if datetime.strptime(unvollstaendige_liste[i], \"%m/%d/%y\") != datetime.strptime(dates[i], \"%m/%d/%y\"):\n",
        "      part_until_i = unvollstaendige_liste[:i]\n",
        "      part_after_i = unvollstaendige_liste[i:]\n",
        "      part_until_i.append(dates[i])\n",
        "      unvollstaendige_liste = part_until_i\n",
        "      unvollstaendige_liste.extend(part_after_i)\n",
        "      y.insert(i, y[i-1])\n",
        "unvollstaendige_liste.pop(len(unvollstaendige_liste)-1)\n",
        "y.pop(len(y)-1)"
      ],
      "execution_count": 103,
      "outputs": [
        {
          "output_type": "execute_result",
          "data": {
            "text/plain": [
              "10897.8203125"
            ]
          },
          "metadata": {
            "tags": []
          },
          "execution_count": 103
        }
      ]
    },
    {
      "cell_type": "code",
      "metadata": {
        "id": "68VcJqxkCu1x",
        "colab_type": "code",
        "outputId": "5561d1ad-5158-474b-a743-ec4e197e140d",
        "colab": {
          "base_uri": "https://localhost:8080/",
          "height": 309
        }
      },
      "source": [
        "fig, axis1 = plt.subplots()\n",
        "axis1.set_xlabel('Time')\n",
        "axis1.set_ylabel('Cases')\n",
        "#axis1.set_xticks(list(range(0, len(x2), 14)))\n",
        "axis1.tick_params(axis='y', color='blue')\n",
        "axis2 = axis1.twinx()\n",
        "#axis3 = axis2.twinx()\n",
        "axis3 = axis1.twiny()\n",
        "\n",
        "axis1.plot(x2,y2, color='blue', label=\"Cases in Germany\")\n",
        "axis2.set_ylabel('Number')\n",
        "\n",
        "axis1.tick_params(axis='y', colors='blue')\n",
        "axis2.tick_params(axis='y', colors='red')\n",
        "\n",
        "axis3.plot(x2, y3, color='green', label=\"Cases in Hubei (China)\")\n",
        "axis3.set_xticks(list(range(0, len(x2), 14)))\n",
        "\n",
        "axis2.plot(x2, y, color='red', label=\"DAX\")\n",
        "axis1.set_xticks(list(range(0, len(x2), 14)))\n",
        "axis2.set_xticks(list(range(0, len(x2), 14)))\n",
        "\n",
        "fig.legend()\n",
        "#fig.tight_layout()  # otherwise the right y-label is slightly clipped\n",
        "\n",
        "fig.show()\n",
        "fig.savefig(\"WirtschaftUndCoronaChina.png\")"
      ],
      "execution_count": 104,
      "outputs": [
        {
          "output_type": "display_data",
          "data": {
            "image/png": "[encoded data removed]",
            "text/plain": [
              "<Figure size 432x288 with 3 Axes>"
            ]
          },
          "metadata": {
            "tags": [],
            "needs_background": "light"
          }
        }
      ]
    }
  ]
}